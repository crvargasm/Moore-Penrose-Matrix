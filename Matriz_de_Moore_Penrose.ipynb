{
  "nbformat": 4,
  "nbformat_minor": 0,
  "metadata": {
    "colab": {
      "name": "Matriz de Moore-Penrose.ipynb",
      "provenance": [],
      "collapsed_sections": []
    },
    "kernelspec": {
      "name": "python3",
      "display_name": "Python 3"
    },
    "language_info": {
      "name": "python"
    }
  },
  "cells": [
    {
      "cell_type": "code",
      "metadata": {
        "colab": {
          "base_uri": "https://localhost:8080/"
        },
        "id": "UsBJ_YO9mI-Y",
        "outputId": "593a0973-ce9b-4e87-e00f-2b72e8ff66d3"
      },
      "source": [
        "import numpy as np\n",
        "import math\n",
        "\n",
        "def LUDecomposition(A): #Descomposicion LU de una Matriz Cuadrada\n",
        "  m=A.shape[1]\n",
        "  matriz=np.zeros([m,m])\n",
        "  L=np.zeros([m,m])\n",
        "  U=np.zeros([m,m])\n",
        "  for r in range(0,m):\n",
        "    for c in range(0,m):\n",
        "      matriz[r,c]=float(A[r,c])\n",
        "      U[r,c]=A[r,c]\n",
        "\n",
        "  for k in range(0,m):\n",
        "    for r in range(0,m):\n",
        "      if(k==r):\n",
        "        L[k,r]=1\n",
        "      if(k<r):\n",
        "        factor=(matriz[r,k]/matriz[k,k])\n",
        "        L[r,k]=factor\n",
        "        for c in range(0,m):\n",
        "          matriz[r,c]=matriz[r,c]-(factor*matriz[k,c])\n",
        "          U[r,c]=matriz[r,c]\n",
        "  return L,U\n",
        "\n",
        "def inverseMatrix(A): #Inverso de una Matriz Cuadrada \n",
        "  if(A.shape[0]!=A.shape[1]):\n",
        "    return null\n",
        "  m=A.shape[0]\n",
        "  L,U=LUDecomposition(A)\n",
        "  inversa=np.zeros([m,m])\n",
        "  for i in range(0,m):    #Por Cada columna\n",
        "    x=np.zeros(m)\n",
        "    x[i]=1 \n",
        "    Z=np.linalg.solve(L,x)\n",
        "    X=np.linalg.solve(U,Z)\n",
        "    inversa[i]=X\n",
        "  #print(inversa)\n",
        "  return np.transpose(inversa)\n",
        "\n",
        "def inversaMoorePenrose(A):    #Matriz m x n\n",
        "  if(np.linalg.matrix_rank(A)==A.shape[0]): #rango(A)==m\n",
        "    R=np.transpose(A)\n",
        "    aux=A@np.transpose(A)\n",
        "    aux=inverseMatrix(aux)\n",
        "    R=R@aux\n",
        "    return R\n",
        "  elif(np.linalg.matrix_rank(A)==A.shape[1]): #rango(A)==n\n",
        "    L=np.transpose(A)@A\n",
        "    L=inverseMatrix(L)\n",
        "    L=L@np.transpose(A)\n",
        "    return L\n",
        "  else:\n",
        "    print(\"Ha habido un error\")\n",
        "    return null\n",
        "\n",
        "def pruebaMoorePenrose(A,Aplus):    #Nótese que la comprobación es diferente segun el rango de la Matriz A\n",
        "  if(np.linalg.matrix_rank(A)==A.shape[0]): #rango(A)==m\n",
        "    return A@Aplus\n",
        "  elif(np.linalg.matrix_rank(A)==A.shape[1]): #rango(A)==n\n",
        "    return Aplus@A\n",
        "\n",
        "#float_array.astype(int)\n",
        "\n",
        "A=np.matrix([[1,0],\n",
        "             [0,1]])\n",
        "\n",
        "Aplus=inversaMoorePenrose(A)\n",
        "print(Aplus)\n",
        "print()\n",
        "print(pruebaMoorePenrose(A,Aplus))"
      ],
      "execution_count": 4,
      "outputs": [
        {
          "output_type": "stream",
          "name": "stdout",
          "text": [
            "[[1. 0.]\n",
            " [0. 1.]]\n",
            "\n",
            "[[1. 0.]\n",
            " [0. 1.]]\n"
          ]
        }
      ]
    }
  ]
}